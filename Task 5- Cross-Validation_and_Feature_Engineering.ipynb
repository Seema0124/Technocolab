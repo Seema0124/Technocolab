{
 "cells": [
  {
   "cell_type": "markdown",
   "metadata": {},
   "source": [
    "**Run the following two cells before you begin.**"
   ]
  },
  {
   "cell_type": "code",
   "execution_count": 173,
   "metadata": {},
   "outputs": [
    {
     "data": {
      "application/javascript": [
       "IPython.notebook.set_autosave_interval(10000)"
      ]
     },
     "metadata": {},
     "output_type": "display_data"
    },
    {
     "name": "stdout",
     "output_type": "stream",
     "text": [
      "Autosaving every 10 seconds\n"
     ]
    }
   ],
   "source": [
    "%autosave 10"
   ]
  },
  {
   "cell_type": "code",
   "execution_count": 174,
   "metadata": {},
   "outputs": [],
   "source": [
    "import pandas as pd\n",
    "import numpy as np\n",
    "import matplotlib.pyplot as plt\n",
    "\n",
    "from sklearn.model_selection import train_test_split, StratifiedKFold\n",
    "from sklearn.preprocessing import MinMaxScaler\n",
    "from sklearn.linear_model import LogisticRegression\n",
    "from sklearn.metrics import roc_auc_score, roc_curve\n",
    "\n",
    "%matplotlib inline\n",
    "\n",
    "# To ignore warnings\n",
    "import warnings\n",
    "warnings.filterwarnings(\"ignore\")"
   ]
  },
  {
   "cell_type": "markdown",
   "metadata": {},
   "source": [
    "**First, import the cleaned data set. Then, select the features from the DataFrame of the case study data.**\n",
    "    \n",
    "These features should be: `'LIMIT_BAL'`, `'EDUCATION'`, `'MARRIAGE'`, `'AGE'`, `'PAY_1'`, `'BILL_AMT1'`, `'BILL_AMT2'`, `'BILL_AMT3'`, `'BILL_AMT4'`, `'BILL_AMT5'`, `'BILL_AMT6'`, `'PAY_AMT1'`, `'PAY_AMT2'`, `'PAY_AMT3'`, `'PAY_AMT4'`, `'PAY_AMT5'`, AND `'PAY_AMT6'`."
   ]
  },
  {
   "cell_type": "code",
   "execution_count": 175,
   "metadata": {},
   "outputs": [
    {
     "data": {
      "text/html": [
       "<div>\n",
       "<style scoped>\n",
       "    .dataframe tbody tr th:only-of-type {\n",
       "        vertical-align: middle;\n",
       "    }\n",
       "\n",
       "    .dataframe tbody tr th {\n",
       "        vertical-align: top;\n",
       "    }\n",
       "\n",
       "    .dataframe thead th {\n",
       "        text-align: right;\n",
       "    }\n",
       "</style>\n",
       "<table border=\"1\" class=\"dataframe\">\n",
       "  <thead>\n",
       "    <tr style=\"text-align: right;\">\n",
       "      <th></th>\n",
       "      <th>ID</th>\n",
       "      <th>LIMIT_BAL</th>\n",
       "      <th>SEX</th>\n",
       "      <th>EDUCATION</th>\n",
       "      <th>MARRIAGE</th>\n",
       "      <th>AGE</th>\n",
       "      <th>PAY_1</th>\n",
       "      <th>PAY_2</th>\n",
       "      <th>PAY_3</th>\n",
       "      <th>PAY_4</th>\n",
       "      <th>...</th>\n",
       "      <th>PAY_AMT3</th>\n",
       "      <th>PAY_AMT4</th>\n",
       "      <th>PAY_AMT5</th>\n",
       "      <th>PAY_AMT6</th>\n",
       "      <th>default payment next month</th>\n",
       "      <th>EDUCATION_CAT</th>\n",
       "      <th>graduate school</th>\n",
       "      <th>high school</th>\n",
       "      <th>others</th>\n",
       "      <th>university</th>\n",
       "    </tr>\n",
       "  </thead>\n",
       "  <tbody>\n",
       "    <tr>\n",
       "      <th>0</th>\n",
       "      <td>798fc410-45c1</td>\n",
       "      <td>20000</td>\n",
       "      <td>2</td>\n",
       "      <td>2</td>\n",
       "      <td>1</td>\n",
       "      <td>24</td>\n",
       "      <td>2</td>\n",
       "      <td>2</td>\n",
       "      <td>-1</td>\n",
       "      <td>-1</td>\n",
       "      <td>...</td>\n",
       "      <td>0</td>\n",
       "      <td>0</td>\n",
       "      <td>0</td>\n",
       "      <td>0</td>\n",
       "      <td>1</td>\n",
       "      <td>university</td>\n",
       "      <td>0</td>\n",
       "      <td>0</td>\n",
       "      <td>0</td>\n",
       "      <td>1</td>\n",
       "    </tr>\n",
       "    <tr>\n",
       "      <th>1</th>\n",
       "      <td>8a8c8f3b-8eb4</td>\n",
       "      <td>120000</td>\n",
       "      <td>2</td>\n",
       "      <td>2</td>\n",
       "      <td>2</td>\n",
       "      <td>26</td>\n",
       "      <td>-1</td>\n",
       "      <td>2</td>\n",
       "      <td>0</td>\n",
       "      <td>0</td>\n",
       "      <td>...</td>\n",
       "      <td>1000</td>\n",
       "      <td>1000</td>\n",
       "      <td>0</td>\n",
       "      <td>2000</td>\n",
       "      <td>1</td>\n",
       "      <td>university</td>\n",
       "      <td>0</td>\n",
       "      <td>0</td>\n",
       "      <td>0</td>\n",
       "      <td>1</td>\n",
       "    </tr>\n",
       "    <tr>\n",
       "      <th>2</th>\n",
       "      <td>85698822-43f5</td>\n",
       "      <td>90000</td>\n",
       "      <td>2</td>\n",
       "      <td>2</td>\n",
       "      <td>2</td>\n",
       "      <td>34</td>\n",
       "      <td>0</td>\n",
       "      <td>0</td>\n",
       "      <td>0</td>\n",
       "      <td>0</td>\n",
       "      <td>...</td>\n",
       "      <td>1000</td>\n",
       "      <td>1000</td>\n",
       "      <td>1000</td>\n",
       "      <td>5000</td>\n",
       "      <td>0</td>\n",
       "      <td>university</td>\n",
       "      <td>0</td>\n",
       "      <td>0</td>\n",
       "      <td>0</td>\n",
       "      <td>1</td>\n",
       "    </tr>\n",
       "    <tr>\n",
       "      <th>3</th>\n",
       "      <td>0737c11b-be42</td>\n",
       "      <td>50000</td>\n",
       "      <td>2</td>\n",
       "      <td>2</td>\n",
       "      <td>1</td>\n",
       "      <td>37</td>\n",
       "      <td>0</td>\n",
       "      <td>0</td>\n",
       "      <td>0</td>\n",
       "      <td>0</td>\n",
       "      <td>...</td>\n",
       "      <td>1200</td>\n",
       "      <td>1100</td>\n",
       "      <td>1069</td>\n",
       "      <td>1000</td>\n",
       "      <td>0</td>\n",
       "      <td>university</td>\n",
       "      <td>0</td>\n",
       "      <td>0</td>\n",
       "      <td>0</td>\n",
       "      <td>1</td>\n",
       "    </tr>\n",
       "    <tr>\n",
       "      <th>4</th>\n",
       "      <td>3b7f77cc-dbc0</td>\n",
       "      <td>50000</td>\n",
       "      <td>1</td>\n",
       "      <td>2</td>\n",
       "      <td>1</td>\n",
       "      <td>57</td>\n",
       "      <td>-1</td>\n",
       "      <td>0</td>\n",
       "      <td>-1</td>\n",
       "      <td>0</td>\n",
       "      <td>...</td>\n",
       "      <td>10000</td>\n",
       "      <td>9000</td>\n",
       "      <td>689</td>\n",
       "      <td>679</td>\n",
       "      <td>0</td>\n",
       "      <td>university</td>\n",
       "      <td>0</td>\n",
       "      <td>0</td>\n",
       "      <td>0</td>\n",
       "      <td>1</td>\n",
       "    </tr>\n",
       "  </tbody>\n",
       "</table>\n",
       "<p>5 rows × 30 columns</p>\n",
       "</div>"
      ],
      "text/plain": [
       "              ID  LIMIT_BAL  SEX  EDUCATION  MARRIAGE  AGE  PAY_1  PAY_2  \\\n",
       "0  798fc410-45c1      20000    2          2         1   24      2      2   \n",
       "1  8a8c8f3b-8eb4     120000    2          2         2   26     -1      2   \n",
       "2  85698822-43f5      90000    2          2         2   34      0      0   \n",
       "3  0737c11b-be42      50000    2          2         1   37      0      0   \n",
       "4  3b7f77cc-dbc0      50000    1          2         1   57     -1      0   \n",
       "\n",
       "   PAY_3  PAY_4  ...  PAY_AMT3  PAY_AMT4  PAY_AMT5  PAY_AMT6  \\\n",
       "0     -1     -1  ...         0         0         0         0   \n",
       "1      0      0  ...      1000      1000         0      2000   \n",
       "2      0      0  ...      1000      1000      1000      5000   \n",
       "3      0      0  ...      1200      1100      1069      1000   \n",
       "4     -1      0  ...     10000      9000       689       679   \n",
       "\n",
       "   default payment next month  EDUCATION_CAT  graduate school  high school  \\\n",
       "0                           1     university                0            0   \n",
       "1                           1     university                0            0   \n",
       "2                           0     university                0            0   \n",
       "3                           0     university                0            0   \n",
       "4                           0     university                0            0   \n",
       "\n",
       "   others  university  \n",
       "0       0           1  \n",
       "1       0           1  \n",
       "2       0           1  \n",
       "3       0           1  \n",
       "4       0           1  \n",
       "\n",
       "[5 rows x 30 columns]"
      ]
     },
     "execution_count": 175,
     "metadata": {},
     "output_type": "execute_result"
    }
   ],
   "source": [
    "# Import data set\n",
    "df = pd.read_csv(r\"C:/Users/Hemant/Desktop/cleaned_data.csv\")\n",
    "df.head()"
   ]
  },
  {
   "cell_type": "code",
   "execution_count": 176,
   "metadata": {},
   "outputs": [
    {
     "data": {
      "text/html": [
       "<div>\n",
       "<style scoped>\n",
       "    .dataframe tbody tr th:only-of-type {\n",
       "        vertical-align: middle;\n",
       "    }\n",
       "\n",
       "    .dataframe tbody tr th {\n",
       "        vertical-align: top;\n",
       "    }\n",
       "\n",
       "    .dataframe thead th {\n",
       "        text-align: right;\n",
       "    }\n",
       "</style>\n",
       "<table border=\"1\" class=\"dataframe\">\n",
       "  <thead>\n",
       "    <tr style=\"text-align: right;\">\n",
       "      <th></th>\n",
       "      <th>LIMIT_BAL</th>\n",
       "      <th>EDUCATION</th>\n",
       "      <th>MARRIAGE</th>\n",
       "      <th>AGE</th>\n",
       "      <th>PAY_1</th>\n",
       "      <th>BILL_AMT1</th>\n",
       "      <th>BILL_AMT2</th>\n",
       "      <th>BILL_AMT3</th>\n",
       "      <th>BILL_AMT4</th>\n",
       "      <th>BILL_AMT5</th>\n",
       "      <th>BILL_AMT6</th>\n",
       "      <th>PAY_AMT1</th>\n",
       "      <th>PAY_AMT2</th>\n",
       "      <th>PAY_AMT3</th>\n",
       "      <th>PAY_AMT4</th>\n",
       "      <th>PAY_AMT5</th>\n",
       "      <th>PAY_AMT6</th>\n",
       "    </tr>\n",
       "  </thead>\n",
       "  <tbody>\n",
       "    <tr>\n",
       "      <th>0</th>\n",
       "      <td>20000</td>\n",
       "      <td>2</td>\n",
       "      <td>1</td>\n",
       "      <td>24</td>\n",
       "      <td>2</td>\n",
       "      <td>3913</td>\n",
       "      <td>3102</td>\n",
       "      <td>689</td>\n",
       "      <td>0</td>\n",
       "      <td>0</td>\n",
       "      <td>0</td>\n",
       "      <td>0</td>\n",
       "      <td>689</td>\n",
       "      <td>0</td>\n",
       "      <td>0</td>\n",
       "      <td>0</td>\n",
       "      <td>0</td>\n",
       "    </tr>\n",
       "    <tr>\n",
       "      <th>1</th>\n",
       "      <td>120000</td>\n",
       "      <td>2</td>\n",
       "      <td>2</td>\n",
       "      <td>26</td>\n",
       "      <td>-1</td>\n",
       "      <td>2682</td>\n",
       "      <td>1725</td>\n",
       "      <td>2682</td>\n",
       "      <td>3272</td>\n",
       "      <td>3455</td>\n",
       "      <td>3261</td>\n",
       "      <td>0</td>\n",
       "      <td>1000</td>\n",
       "      <td>1000</td>\n",
       "      <td>1000</td>\n",
       "      <td>0</td>\n",
       "      <td>2000</td>\n",
       "    </tr>\n",
       "    <tr>\n",
       "      <th>2</th>\n",
       "      <td>90000</td>\n",
       "      <td>2</td>\n",
       "      <td>2</td>\n",
       "      <td>34</td>\n",
       "      <td>0</td>\n",
       "      <td>29239</td>\n",
       "      <td>14027</td>\n",
       "      <td>13559</td>\n",
       "      <td>14331</td>\n",
       "      <td>14948</td>\n",
       "      <td>15549</td>\n",
       "      <td>1518</td>\n",
       "      <td>1500</td>\n",
       "      <td>1000</td>\n",
       "      <td>1000</td>\n",
       "      <td>1000</td>\n",
       "      <td>5000</td>\n",
       "    </tr>\n",
       "    <tr>\n",
       "      <th>3</th>\n",
       "      <td>50000</td>\n",
       "      <td>2</td>\n",
       "      <td>1</td>\n",
       "      <td>37</td>\n",
       "      <td>0</td>\n",
       "      <td>46990</td>\n",
       "      <td>48233</td>\n",
       "      <td>49291</td>\n",
       "      <td>28314</td>\n",
       "      <td>28959</td>\n",
       "      <td>29547</td>\n",
       "      <td>2000</td>\n",
       "      <td>2019</td>\n",
       "      <td>1200</td>\n",
       "      <td>1100</td>\n",
       "      <td>1069</td>\n",
       "      <td>1000</td>\n",
       "    </tr>\n",
       "    <tr>\n",
       "      <th>4</th>\n",
       "      <td>50000</td>\n",
       "      <td>2</td>\n",
       "      <td>1</td>\n",
       "      <td>57</td>\n",
       "      <td>-1</td>\n",
       "      <td>8617</td>\n",
       "      <td>5670</td>\n",
       "      <td>35835</td>\n",
       "      <td>20940</td>\n",
       "      <td>19146</td>\n",
       "      <td>19131</td>\n",
       "      <td>2000</td>\n",
       "      <td>36681</td>\n",
       "      <td>10000</td>\n",
       "      <td>9000</td>\n",
       "      <td>689</td>\n",
       "      <td>679</td>\n",
       "    </tr>\n",
       "  </tbody>\n",
       "</table>\n",
       "</div>"
      ],
      "text/plain": [
       "   LIMIT_BAL  EDUCATION  MARRIAGE  AGE  PAY_1  BILL_AMT1  BILL_AMT2  \\\n",
       "0      20000          2         1   24      2       3913       3102   \n",
       "1     120000          2         2   26     -1       2682       1725   \n",
       "2      90000          2         2   34      0      29239      14027   \n",
       "3      50000          2         1   37      0      46990      48233   \n",
       "4      50000          2         1   57     -1       8617       5670   \n",
       "\n",
       "   BILL_AMT3  BILL_AMT4  BILL_AMT5  BILL_AMT6  PAY_AMT1  PAY_AMT2  PAY_AMT3  \\\n",
       "0        689          0          0          0         0       689         0   \n",
       "1       2682       3272       3455       3261         0      1000      1000   \n",
       "2      13559      14331      14948      15549      1518      1500      1000   \n",
       "3      49291      28314      28959      29547      2000      2019      1200   \n",
       "4      35835      20940      19146      19131      2000     36681     10000   \n",
       "\n",
       "   PAY_AMT4  PAY_AMT5  PAY_AMT6  \n",
       "0         0         0         0  \n",
       "1      1000         0      2000  \n",
       "2      1000      1000      5000  \n",
       "3      1100      1069      1000  \n",
       "4      9000       689       679  "
      ]
     },
     "execution_count": 176,
     "metadata": {},
     "output_type": "execute_result"
    }
   ],
   "source": [
    "# Create features list\n",
    "features=df[['LIMIT_BAL','EDUCATION', 'MARRIAGE', 'AGE', 'PAY_1', 'BILL_AMT1','BILL_AMT2', 'BILL_AMT3',\n",
    "             'BILL_AMT4', 'BILL_AMT5','BILL_AMT6', 'PAY_AMT1', 'PAY_AMT2', 'PAY_AMT3','PAY_AMT4', 'PAY_AMT5','PAY_AMT6']]\n",
    "features.head()"
   ]
  },
  {
   "cell_type": "markdown",
   "metadata": {},
   "source": [
    "_____________________________________________________\n",
    "**Next, make a 80:20 train/test split using a random seed of 24.**"
   ]
  },
  {
   "cell_type": "code",
   "execution_count": 177,
   "metadata": {},
   "outputs": [],
   "source": [
    "# Putting feature variable to X\n",
    "X = features\n",
    "\n",
    "# Putting response variable to y\n",
    "y = df['default payment next month']\n",
    "\n",
    "X_train, X_test, y_train, y_test = train_test_split(X, y, train_size=0.8, test_size=0.2, random_state=24)"
   ]
  },
  {
   "cell_type": "markdown",
   "metadata": {},
   "source": [
    "_____________________________________________________\n",
    "**Then, instantiate the `MinMaxScaler` to scale the data.**"
   ]
  },
  {
   "cell_type": "code",
   "execution_count": 178,
   "metadata": {},
   "outputs": [],
   "source": [
    "from sklearn.preprocessing import MinMaxScaler\n",
    "min_max_sc = MinMaxScaler()"
   ]
  },
  {
   "cell_type": "code",
   "execution_count": 179,
   "metadata": {},
   "outputs": [],
   "source": [
    "def GetScaledModel(nameOfScaler):\n",
    "    nameOfScaler =='minmax'\n",
    "    scaler = MinMaxScaler()"
   ]
  },
  {
   "cell_type": "markdown",
   "metadata": {},
   "source": [
    "_____________________________________________________\n",
    "**Next, instantiate a logistic regression model with the `saga` solver, L1 penalty, and set `max_iter` to 1,000 as we want the solver to have enough iterations to find a good solution.**"
   ]
  },
  {
   "cell_type": "code",
   "execution_count": 180,
   "metadata": {},
   "outputs": [
    {
     "data": {
      "text/plain": [
       "LogisticRegression(C=1000, penalty='l1', solver='saga')"
      ]
     },
     "execution_count": 180,
     "metadata": {},
     "output_type": "execute_result"
    }
   ],
   "source": [
    "lr = LogisticRegression(solver='saga', penalty='l1', C=1000)\n",
    "lr.fit(X_train, y_train)"
   ]
  },
  {
   "cell_type": "code",
   "execution_count": 181,
   "metadata": {},
   "outputs": [
    {
     "data": {
      "text/plain": [
       "0.7834239639977498"
      ]
     },
     "execution_count": 181,
     "metadata": {},
     "output_type": "execute_result"
    }
   ],
   "source": [
    "accuracy_score = lr.score(X_test, y_test)\n",
    "accuracy_score "
   ]
  },
  {
   "cell_type": "markdown",
   "metadata": {},
   "source": [
    "_____________________________________________________\n",
    "**Next, import the `Pipeline` class and create a `Pipeline` with the scaler and the logistic regression model, using the names `'scaler'` and `'model'` for the steps, respectively.**"
   ]
  },
  {
   "cell_type": "code",
   "execution_count": 182,
   "metadata": {},
   "outputs": [
    {
     "data": {
      "text/plain": [
       "0.814738421151322"
      ]
     },
     "execution_count": 182,
     "metadata": {},
     "output_type": "execute_result"
    }
   ],
   "source": [
    "from sklearn.pipeline import Pipeline\n",
    "scale_lr_pipeline = Pipeline(steps=[('scaler', min_max_sc), ('model', lr)])\n",
    "\n",
    "scale_lr_pipeline.fit(X_train, y_train)\n",
    "\n",
    "preds = scale_lr_pipeline.predict(X_test)\n",
    "np.mean(preds == y_test)"
   ]
  },
  {
   "cell_type": "markdown",
   "metadata": {},
   "source": [
    "_____________________________________________________\n",
    "**Now, use the `get_params` method to view the parameters from each stage of the pipeline.**"
   ]
  },
  {
   "cell_type": "code",
   "execution_count": 195,
   "metadata": {
    "scrolled": false
   },
   "outputs": [
    {
     "data": {
      "text/plain": [
       "{'memory': None,\n",
       " 'steps': [('scaler', MinMaxScaler()),\n",
       "  ('model', LogisticRegression(C=2, penalty='l1', solver='saga'))],\n",
       " 'verbose': False,\n",
       " 'scaler': MinMaxScaler(),\n",
       " 'model': LogisticRegression(C=2, penalty='l1', solver='saga'),\n",
       " 'scaler__copy': True,\n",
       " 'scaler__feature_range': (0, 1),\n",
       " 'model__C': 2,\n",
       " 'model__class_weight': None,\n",
       " 'model__dual': False,\n",
       " 'model__fit_intercept': True,\n",
       " 'model__intercept_scaling': 1,\n",
       " 'model__l1_ratio': None,\n",
       " 'model__max_iter': 100,\n",
       " 'model__multi_class': 'auto',\n",
       " 'model__n_jobs': None,\n",
       " 'model__penalty': 'l1',\n",
       " 'model__random_state': None,\n",
       " 'model__solver': 'saga',\n",
       " 'model__tol': 0.0001,\n",
       " 'model__verbose': 0,\n",
       " 'model__warm_start': False}"
      ]
     },
     "execution_count": 195,
     "metadata": {},
     "output_type": "execute_result"
    }
   ],
   "source": [
    "# Use `get_params`\n",
    "scale_lr_pipeline.get_params()"
   ]
  },
  {
   "cell_type": "markdown",
   "metadata": {},
   "source": [
    "**Use the `set_params` method to change the the `model__C` parameter to 2.**"
   ]
  },
  {
   "cell_type": "code",
   "execution_count": 196,
   "metadata": {},
   "outputs": [
    {
     "data": {
      "text/plain": [
       "2"
      ]
     },
     "execution_count": 196,
     "metadata": {},
     "output_type": "execute_result"
    }
   ],
   "source": [
    "# View what `model__C` is set to currently\n",
    "\n",
    "scale_lr_pipeline.get_params()['model__C']"
   ]
  },
  {
   "cell_type": "code",
   "execution_count": 197,
   "metadata": {},
   "outputs": [
    {
     "data": {
      "text/plain": [
       "Pipeline(steps=[('scaler', MinMaxScaler()),\n",
       "                ('model',\n",
       "                 LogisticRegression(C=2, penalty='l1', solver='saga'))])"
      ]
     },
     "execution_count": 197,
     "metadata": {},
     "output_type": "execute_result"
    }
   ],
   "source": [
    "# Change `model__C` to 2\n",
    "scale_lr_pipeline.set_params(model__C = 2)"
   ]
  },
  {
   "cell_type": "markdown",
   "metadata": {},
   "source": [
    "_____________________________________________________\n",
    "**Then, create a smaller range of C values to test with cross-validation, as these models will take longer to train and test with more data than our previous activities.**\n",
    "\n",
    "**Use C_vals = [$10^2$, $10$, $1$, $10^{-1}$, $10^{-2}$, $10^{-3}$].**\n",
    "\n",
    "\n",
    "<details>\n",
    "    <summary>Hint:</summary>\n",
    "    Recall that exponents in Python use the ** operator.\n",
    "</details>"
   ]
  },
  {
   "cell_type": "code",
   "execution_count": 187,
   "metadata": {},
   "outputs": [
    {
     "name": "stdout",
     "output_type": "stream",
     "text": [
      "Best roc_auc: 0.65, with best C: {'C': 10}\n"
     ]
    }
   ],
   "source": [
    "from sklearn.model_selection import GridSearchCV\n",
    "\n",
    "param = {'C':[100, 10, 1, .1, .01, .001]}\n",
    "clf = GridSearchCV(lr,param,scoring='roc_auc',refit=True,cv=10)\n",
    "clf.fit(X_train,y_train)\n",
    "print('Best roc_auc: {:.4}, with best C: {}'.format(clf.best_score_, clf.best_params_))"
   ]
  },
  {
   "cell_type": "markdown",
   "metadata": {},
   "source": [
    "Now, define `k_folds` using `StratifiedKFold`. The number of folds should be 4. Set the random state to 1."
   ]
  },
  {
   "cell_type": "code",
   "execution_count": 188,
   "metadata": {},
   "outputs": [
    {
     "name": "stdout",
     "output_type": "stream",
     "text": [
      "1 of KFold 4\n",
      "ROC AUC score: 0.4999036051667631\n",
      "2 of KFold 4\n",
      "ROC AUC score: 0.5\n",
      "3 of KFold 4\n",
      "ROC AUC score: 0.49956728497010383\n",
      "4 of KFold 4\n",
      "ROC AUC score: 0.5002419187403429\n"
     ]
    }
   ],
   "source": [
    "from sklearn.model_selection import StratifiedKFold\n",
    "from sklearn.model_selection import KFold\n",
    "\n",
    "k_folds = StratifiedKFold(n_splits=4,shuffle=True,random_state=1)\n",
    "pred_test_full =0\n",
    "cv_score =[]\n",
    "i=1\n",
    "for train_index,test_index in k_folds.split(X,y):\n",
    "    print('{} of KFold {}'.format(i,k_folds.n_splits))\n",
    "    xtr,xvl = X.loc[train_index],X.loc[test_index]\n",
    "    ytr,yvl = y.loc[train_index],y.loc[test_index]\n",
    "    \n",
    "    #model\n",
    "    lr = LogisticRegression(C=2)\n",
    "    lr.fit(xtr,ytr)\n",
    "    score = roc_auc_score(yvl,lr.predict(xvl))\n",
    "    print('ROC AUC score:',score)\n",
    "    cv_score.append(score)    \n",
    "    pred_test = lr.predict_proba(X_test)[:,1]\n",
    "    pred_test_full +=pred_test\n",
    "    i+=1"
   ]
  },
  {
   "cell_type": "markdown",
   "metadata": {},
   "source": [
    "_____________________________________________________\n",
    "**Next, make a new version of the `cross_val_C_search` function, called `cross_val_C_search_pipe`. Instead of the model argument, this function will take a pipeline argument. The changes inside the function will be to set the `C` value using `set_params(model__C = <value you want to test>)` on the pipeline, replacing the model with the pipeline for the fit and `predict_proba` methods, and accessing the `C` value using `pipeline.get_params()['model__C']` for the printed status update.**"
   ]
  },
  {
   "cell_type": "code",
   "execution_count": 216,
   "metadata": {},
   "outputs": [
    {
     "data": {
      "text/plain": [
       "array([ 3. ,  2.5,  2. ,  1.5,  1. ,  0.5,  0. , -0.5, -1. , -1.5, -2. ,\n",
       "       -2.5, -3. ])"
      ]
     },
     "execution_count": 216,
     "metadata": {},
     "output_type": "execute_result"
    }
   ],
   "source": [
    "C_val_exponents = np.linspace(3,-3,13)\n",
    "C_val_exponents"
   ]
  },
  {
   "cell_type": "code",
   "execution_count": 217,
   "metadata": {},
   "outputs": [
    {
     "data": {
      "text/plain": [
       "array([1.00000000e+03, 3.16227766e+02, 1.00000000e+02, 3.16227766e+01,\n",
       "       1.00000000e+01, 3.16227766e+00, 1.00000000e+00, 3.16227766e-01,\n",
       "       1.00000000e-01, 3.16227766e-02, 1.00000000e-02, 3.16227766e-03,\n",
       "       1.00000000e-03])"
      ]
     },
     "execution_count": 217,
     "metadata": {},
     "output_type": "execute_result"
    }
   ],
   "source": [
    "C_vals = np.float(10)**C_val_exponents\n",
    "C_vals"
   ]
  },
  {
   "cell_type": "code",
   "execution_count": 237,
   "metadata": {},
   "outputs": [],
   "source": [
    "from sklearn.metrics import roc_curve\n",
    "\n",
    "def cross_val_C_search(k_folds, C_vals, lr, X, y):\n",
    "    n_folds = k_folds.n_splits\n",
    "    cv_train_roc_auc = np.empty((n_folds, len(C_vals)))\n",
    "    cv_test_roc_auc = np.empty((n_folds, len(C_vals)))\n",
    "    cv_test_roc = [[]]*len(C_vals)\n",
    "    return cv_train_roc_auc, cv_test_roc_auc, cv_test_roc\n",
    "\n",
    "cv_train_roc_auc, cv_test_roc_auc, cv_test_roc=cross_val_C_search(k_folds, C_vals, lr, X, y)"
   ]
  },
  {
   "cell_type": "markdown",
   "metadata": {},
   "source": [
    "_____________________________________________________\n",
    "**Now, run this function as in the previous activity, but using the new range of `C` values, the pipeline you created, and the features and response variable from the training split of the case study data.**\n",
    "\n",
    "    You may see warnings here, or in later steps, about the non-convergence of the solver; you could experiment with the `tol` or `max_iter`` options to try and achieve convergence, although the results you obtain with `max_iter = 1000` are likely to be sufficient."
   ]
  },
  {
   "cell_type": "code",
   "execution_count": 238,
   "metadata": {},
   "outputs": [],
   "source": [
    "for c_val_counter in range(len(C_vals)):\n",
    "    #Set the C value for the model object\n",
    "    lr.C = C_vals[c_val_counter]\n",
    "    #Count folds for each value of C\n",
    "    fold_counter = 0\n",
    "    \n",
    "#Get training and testing indices for each fold\n",
    "    for train_index, test_index in k_folds.split(X, y):\n",
    "        #Subset the features and response, for training and testing data for this fold\n",
    "        X_cv_train, X_cv_test = X_train, X_test\n",
    "        y_cv_train, y_cv_test =y_train, y_test\n",
    "        #Fit the model on the training data\n",
    "        lr_syn=lr.fit(X_cv_train, y_cv_train)\n",
    "        lr_syn"
   ]
  },
  {
   "cell_type": "code",
   "execution_count": 239,
   "metadata": {},
   "outputs": [],
   "source": [
    "#Get the training ROC AUC\n",
    "y_cv_train_predict_proba = lr_syn.predict_proba(X_cv_train)\n",
    "cv_train_roc_auc[fold_counter, c_val_counter] =roc_auc_score(y_cv_train, y_cv_train_predict_proba[:,1])"
   ]
  },
  {
   "cell_type": "code",
   "execution_count": 240,
   "metadata": {},
   "outputs": [],
   "source": [
    "#Get the testing ROC AUC\n",
    "y_cv_test_predict_proba = lr_syn.predict_proba(X_cv_test)\n",
    "cv_test_roc_auc[fold_counter, c_val_counter] = roc_auc_score(y_cv_test, y_cv_test_predict_proba[:,1])"
   ]
  },
  {
   "cell_type": "code",
   "execution_count": 241,
   "metadata": {},
   "outputs": [
    {
     "data": {
      "text/plain": [
       "[[(array([0.00000000e+00, 0.00000000e+00, 2.39348971e-04, ...,\n",
       "          9.98803255e-01, 9.98803255e-01, 1.00000000e+00]),\n",
       "   array([0.00000000e+00, 8.65800866e-04, 8.65800866e-04, ...,\n",
       "          9.98268398e-01, 1.00000000e+00, 1.00000000e+00]),\n",
       "   array([1.53398796e+00, 5.33987964e-01, 4.93300639e-01, ...,\n",
       "          6.50907586e-05, 5.60192355e-05, 4.01392648e-33]))],\n",
       " [(array([0.00000000e+00, 0.00000000e+00, 2.39348971e-04, ...,\n",
       "          9.98803255e-01, 9.98803255e-01, 1.00000000e+00]),\n",
       "   array([0.00000000e+00, 8.65800866e-04, 8.65800866e-04, ...,\n",
       "          9.98268398e-01, 1.00000000e+00, 1.00000000e+00]),\n",
       "   array([1.53398796e+00, 5.33987964e-01, 4.93300639e-01, ...,\n",
       "          6.50907586e-05, 5.60192355e-05, 4.01392648e-33]))],\n",
       " [(array([0.00000000e+00, 0.00000000e+00, 2.39348971e-04, ...,\n",
       "          9.98803255e-01, 9.98803255e-01, 1.00000000e+00]),\n",
       "   array([0.00000000e+00, 8.65800866e-04, 8.65800866e-04, ...,\n",
       "          9.98268398e-01, 1.00000000e+00, 1.00000000e+00]),\n",
       "   array([1.53398796e+00, 5.33987964e-01, 4.93300639e-01, ...,\n",
       "          6.50907586e-05, 5.60192355e-05, 4.01392648e-33]))],\n",
       " [(array([0.00000000e+00, 0.00000000e+00, 2.39348971e-04, ...,\n",
       "          9.98803255e-01, 9.98803255e-01, 1.00000000e+00]),\n",
       "   array([0.00000000e+00, 8.65800866e-04, 8.65800866e-04, ...,\n",
       "          9.98268398e-01, 1.00000000e+00, 1.00000000e+00]),\n",
       "   array([1.53398796e+00, 5.33987964e-01, 4.93300639e-01, ...,\n",
       "          6.50907586e-05, 5.60192355e-05, 4.01392648e-33]))],\n",
       " [(array([0.00000000e+00, 0.00000000e+00, 2.39348971e-04, ...,\n",
       "          9.98803255e-01, 9.98803255e-01, 1.00000000e+00]),\n",
       "   array([0.00000000e+00, 8.65800866e-04, 8.65800866e-04, ...,\n",
       "          9.98268398e-01, 1.00000000e+00, 1.00000000e+00]),\n",
       "   array([1.53398796e+00, 5.33987964e-01, 4.93300639e-01, ...,\n",
       "          6.50907586e-05, 5.60192355e-05, 4.01392648e-33]))],\n",
       " [(array([0.00000000e+00, 0.00000000e+00, 2.39348971e-04, ...,\n",
       "          9.98803255e-01, 9.98803255e-01, 1.00000000e+00]),\n",
       "   array([0.00000000e+00, 8.65800866e-04, 8.65800866e-04, ...,\n",
       "          9.98268398e-01, 1.00000000e+00, 1.00000000e+00]),\n",
       "   array([1.53398796e+00, 5.33987964e-01, 4.93300639e-01, ...,\n",
       "          6.50907586e-05, 5.60192355e-05, 4.01392648e-33]))],\n",
       " [(array([0.00000000e+00, 0.00000000e+00, 2.39348971e-04, ...,\n",
       "          9.98803255e-01, 9.98803255e-01, 1.00000000e+00]),\n",
       "   array([0.00000000e+00, 8.65800866e-04, 8.65800866e-04, ...,\n",
       "          9.98268398e-01, 1.00000000e+00, 1.00000000e+00]),\n",
       "   array([1.53398796e+00, 5.33987964e-01, 4.93300639e-01, ...,\n",
       "          6.50907586e-05, 5.60192355e-05, 4.01392648e-33]))],\n",
       " [(array([0.00000000e+00, 0.00000000e+00, 2.39348971e-04, ...,\n",
       "          9.98803255e-01, 9.98803255e-01, 1.00000000e+00]),\n",
       "   array([0.00000000e+00, 8.65800866e-04, 8.65800866e-04, ...,\n",
       "          9.98268398e-01, 1.00000000e+00, 1.00000000e+00]),\n",
       "   array([1.53398796e+00, 5.33987964e-01, 4.93300639e-01, ...,\n",
       "          6.50907586e-05, 5.60192355e-05, 4.01392648e-33]))],\n",
       " [(array([0.00000000e+00, 0.00000000e+00, 2.39348971e-04, ...,\n",
       "          9.98803255e-01, 9.98803255e-01, 1.00000000e+00]),\n",
       "   array([0.00000000e+00, 8.65800866e-04, 8.65800866e-04, ...,\n",
       "          9.98268398e-01, 1.00000000e+00, 1.00000000e+00]),\n",
       "   array([1.53398796e+00, 5.33987964e-01, 4.93300639e-01, ...,\n",
       "          6.50907586e-05, 5.60192355e-05, 4.01392648e-33]))],\n",
       " [(array([0.00000000e+00, 0.00000000e+00, 2.39348971e-04, ...,\n",
       "          9.98803255e-01, 9.98803255e-01, 1.00000000e+00]),\n",
       "   array([0.00000000e+00, 8.65800866e-04, 8.65800866e-04, ...,\n",
       "          9.98268398e-01, 1.00000000e+00, 1.00000000e+00]),\n",
       "   array([1.53398796e+00, 5.33987964e-01, 4.93300639e-01, ...,\n",
       "          6.50907586e-05, 5.60192355e-05, 4.01392648e-33]))],\n",
       " [(array([0.00000000e+00, 0.00000000e+00, 2.39348971e-04, ...,\n",
       "          9.98803255e-01, 9.98803255e-01, 1.00000000e+00]),\n",
       "   array([0.00000000e+00, 8.65800866e-04, 8.65800866e-04, ...,\n",
       "          9.98268398e-01, 1.00000000e+00, 1.00000000e+00]),\n",
       "   array([1.53398796e+00, 5.33987964e-01, 4.93300639e-01, ...,\n",
       "          6.50907586e-05, 5.60192355e-05, 4.01392648e-33]))],\n",
       " [(array([0.00000000e+00, 0.00000000e+00, 2.39348971e-04, ...,\n",
       "          9.98803255e-01, 9.98803255e-01, 1.00000000e+00]),\n",
       "   array([0.00000000e+00, 8.65800866e-04, 8.65800866e-04, ...,\n",
       "          9.98268398e-01, 1.00000000e+00, 1.00000000e+00]),\n",
       "   array([1.53398796e+00, 5.33987964e-01, 4.93300639e-01, ...,\n",
       "          6.50907586e-05, 5.60192355e-05, 4.01392648e-33]))],\n",
       " [(array([0.00000000e+00, 0.00000000e+00, 2.39348971e-04, ...,\n",
       "          9.98803255e-01, 9.98803255e-01, 1.00000000e+00]),\n",
       "   array([0.00000000e+00, 8.65800866e-04, 8.65800866e-04, ...,\n",
       "          9.98268398e-01, 1.00000000e+00, 1.00000000e+00]),\n",
       "   array([1.53398796e+00, 5.33987964e-01, 4.93300639e-01, ...,\n",
       "          6.50907586e-05, 5.60192355e-05, 4.01392648e-33]))]]"
      ]
     },
     "execution_count": 241,
     "metadata": {},
     "output_type": "execute_result"
    }
   ],
   "source": [
    "#Testing ROC curves for each fold\n",
    "this_fold_roc = roc_curve(y_cv_test, y_cv_test_predict_proba[:,1])\n",
    "cv_test_roc[c_val_counter].append(this_fold_roc)\n",
    "cv_test_roc"
   ]
  },
  {
   "cell_type": "markdown",
   "metadata": {},
   "source": [
    "_____________________________________________________\n",
    "**Plot the average training and testing ROC AUC across folds, for each `np.log(C_vals)` value.**"
   ]
  },
  {
   "cell_type": "code",
   "execution_count": 242,
   "metadata": {},
   "outputs": [
    {
     "data": {
      "text/plain": [
       "Text(0.5, 1.0, 'Cross validation scores averaged over all folds')"
      ]
     },
     "execution_count": 242,
     "metadata": {},
     "output_type": "execute_result"
    },
    {
     "data": {
      "image/png": "[encoded data removed]",
      "text/plain": [
       "<Figure size 432x288 with 1 Axes>"
      ]
     },
     "metadata": {
      "needs_background": "light"
     },
     "output_type": "display_data"
    }
   ],
   "source": [
    "plt.plot(C_val_exponents, np.mean(cv_train_roc_auc, axis=0), '-o',\n",
    "        label='Average training score')\n",
    "plt.plot(C_val_exponents, np.mean(cv_test_roc_auc, axis=0), '-x',\n",
    "        label='Average testing score')\n",
    "plt.ylabel('ROC AUC')\n",
    "plt.xlabel('log$_{10}$(C)')\n",
    "plt.legend()\n",
    "plt.title('Cross validation scores averaged over all folds')"
   ]
  },
  {
   "cell_type": "markdown",
   "metadata": {},
   "source": [
    "_____________________________________________________\n",
    "**Up next, create interaction features for the case study data using scikit-learn's `PolynomialFeatures`. You should use 2 as the degree of polynomial features. Confirm that the number of new features makes sense.**"
   ]
  },
  {
   "cell_type": "code",
   "execution_count": 243,
   "metadata": {},
   "outputs": [
    {
     "name": "stdout",
     "output_type": "stream",
     "text": [
      "[[2.00000000e+04 2.00000000e+00 1.00000000e+00 ... 0.00000000e+00\n",
      "  0.00000000e+00 0.00000000e+00]\n",
      " [1.20000000e+05 2.00000000e+00 2.00000000e+00 ... 0.00000000e+00\n",
      "  2.00000000e+06 0.00000000e+00]\n",
      " [9.00000000e+04 2.00000000e+00 2.00000000e+00 ... 1.00000000e+06\n",
      "  5.00000000e+06 5.00000000e+06]\n",
      " ...\n",
      " [3.00000000e+04 2.00000000e+00 2.00000000e+00 ... 8.40000000e+06\n",
      "  1.30200000e+07 6.20000000e+06]\n",
      " [8.00000000e+04 3.00000000e+00 1.00000000e+00 ... 1.02008664e+08\n",
      "  3.47450400e+06 9.55470560e+07]\n",
      " [5.00000000e+04 2.00000000e+00 1.00000000e+00 ... 1.00000000e+06\n",
      "  1.00000000e+06 1.00000000e+06]]\n"
     ]
    }
   ],
   "source": [
    "from sklearn.preprocessing import PolynomialFeatures\n",
    "make_interactions = PolynomialFeatures(degree=2, interaction_only=True, include_bias=False)\n",
    "\n",
    "features_new = make_interactions.fit_transform(features)\n",
    "print(features_new)"
   ]
  },
  {
   "cell_type": "markdown",
   "metadata": {},
   "source": [
    "_____________________________________________________\n",
    "**Finally, repeat the cross-validation procedure and observe the model performance now.**"
   ]
  },
  {
   "cell_type": "code",
   "execution_count": 244,
   "metadata": {},
   "outputs": [],
   "source": [
    "# Using the new features, make a 80:20 train/test split using a random seed of 24.**\n",
    "\n",
    "# Putting feature variable to X\n",
    "X = features_new\n",
    "\n",
    "# Putting response variable to y\n",
    "y = df['default payment next month']\n",
    "\n",
    "X_train_, X_test_, y_train_, y_test_ = train_test_split(X, y, train_size=0.8, test_size=0.2, random_state=24)"
   ]
  },
  {
   "cell_type": "code",
   "execution_count": 245,
   "metadata": {},
   "outputs": [
    {
     "data": {
      "text/plain": [
       "LogisticRegression()"
      ]
     },
     "execution_count": 245,
     "metadata": {},
     "output_type": "execute_result"
    }
   ],
   "source": [
    "lr_new = LogisticRegression()\n",
    "lr_new.fit(X_train_, y_train_)"
   ]
  },
  {
   "cell_type": "code",
   "execution_count": 246,
   "metadata": {},
   "outputs": [],
   "source": [
    "# Call the cross_val_C_search_pipe() function using the new training data.\n",
    "# All other parameters should remain the same.\n",
    "# Note that this training may take a few minutes due to the larger number of features.\n",
    "\n",
    "#Get the training ROC AUC\n",
    "y_train_predict_proba_1 = lr_new.predict_proba(X_train_)\n",
    "cv_train_roc_auc[fold_counter, c_val_counter] =roc_auc_score(y_train_, y_train_predict_proba_1[:,1])"
   ]
  },
  {
   "cell_type": "code",
   "execution_count": 247,
   "metadata": {},
   "outputs": [],
   "source": [
    "#Get the testing ROC AUC\n",
    "\n",
    "y_test_predict_proba_1 = lr_new.predict_proba(X_test_)\n",
    "cv_test_roc_auc[fold_counter, c_val_counter] =roc_auc_score(y_test_, y_test_predict_proba_1[:,1])"
   ]
  },
  {
   "cell_type": "code",
   "execution_count": 248,
   "metadata": {
    "eid": "b4f5a"
   },
   "outputs": [
    {
     "data": {
      "text/plain": [
       "[[(array([0.00000000e+00, 0.00000000e+00, 2.39348971e-04, ...,\n",
       "          9.98803255e-01, 9.98803255e-01, 1.00000000e+00]),\n",
       "   array([0.00000000e+00, 8.65800866e-04, 8.65800866e-04, ...,\n",
       "          9.98268398e-01, 1.00000000e+00, 1.00000000e+00]),\n",
       "   array([1.53398796e+00, 5.33987964e-01, 4.93300639e-01, ...,\n",
       "          6.50907586e-05, 5.60192355e-05, 4.01392648e-33])),\n",
       "  (array([0.00000000e+00, 2.39348971e-04, 7.18046912e-04, ...,\n",
       "          9.94973672e-01, 1.00000000e+00, 1.00000000e+00]),\n",
       "   array([0.       , 0.       , 0.       , ..., 0.9991342, 0.9991342,\n",
       "          1.       ]),\n",
       "   array([2.00000000e+00, 1.00000000e+00, 9.99239205e-01, ...,\n",
       "          7.62014811e-09, 1.60768050e-15, 1.20096372e-17]))],\n",
       " [(array([0.00000000e+00, 0.00000000e+00, 2.39348971e-04, ...,\n",
       "          9.98803255e-01, 9.98803255e-01, 1.00000000e+00]),\n",
       "   array([0.00000000e+00, 8.65800866e-04, 8.65800866e-04, ...,\n",
       "          9.98268398e-01, 1.00000000e+00, 1.00000000e+00]),\n",
       "   array([1.53398796e+00, 5.33987964e-01, 4.93300639e-01, ...,\n",
       "          6.50907586e-05, 5.60192355e-05, 4.01392648e-33])),\n",
       "  (array([0.00000000e+00, 2.39348971e-04, 7.18046912e-04, ...,\n",
       "          9.94973672e-01, 1.00000000e+00, 1.00000000e+00]),\n",
       "   array([0.       , 0.       , 0.       , ..., 0.9991342, 0.9991342,\n",
       "          1.       ]),\n",
       "   array([2.00000000e+00, 1.00000000e+00, 9.99239205e-01, ...,\n",
       "          7.62014811e-09, 1.60768050e-15, 1.20096372e-17]))],\n",
       " [(array([0.00000000e+00, 0.00000000e+00, 2.39348971e-04, ...,\n",
       "          9.98803255e-01, 9.98803255e-01, 1.00000000e+00]),\n",
       "   array([0.00000000e+00, 8.65800866e-04, 8.65800866e-04, ...,\n",
       "          9.98268398e-01, 1.00000000e+00, 1.00000000e+00]),\n",
       "   array([1.53398796e+00, 5.33987964e-01, 4.93300639e-01, ...,\n",
       "          6.50907586e-05, 5.60192355e-05, 4.01392648e-33])),\n",
       "  (array([0.00000000e+00, 2.39348971e-04, 7.18046912e-04, ...,\n",
       "          9.94973672e-01, 1.00000000e+00, 1.00000000e+00]),\n",
       "   array([0.       , 0.       , 0.       , ..., 0.9991342, 0.9991342,\n",
       "          1.       ]),\n",
       "   array([2.00000000e+00, 1.00000000e+00, 9.99239205e-01, ...,\n",
       "          7.62014811e-09, 1.60768050e-15, 1.20096372e-17]))],\n",
       " [(array([0.00000000e+00, 0.00000000e+00, 2.39348971e-04, ...,\n",
       "          9.98803255e-01, 9.98803255e-01, 1.00000000e+00]),\n",
       "   array([0.00000000e+00, 8.65800866e-04, 8.65800866e-04, ...,\n",
       "          9.98268398e-01, 1.00000000e+00, 1.00000000e+00]),\n",
       "   array([1.53398796e+00, 5.33987964e-01, 4.93300639e-01, ...,\n",
       "          6.50907586e-05, 5.60192355e-05, 4.01392648e-33])),\n",
       "  (array([0.00000000e+00, 2.39348971e-04, 7.18046912e-04, ...,\n",
       "          9.94973672e-01, 1.00000000e+00, 1.00000000e+00]),\n",
       "   array([0.       , 0.       , 0.       , ..., 0.9991342, 0.9991342,\n",
       "          1.       ]),\n",
       "   array([2.00000000e+00, 1.00000000e+00, 9.99239205e-01, ...,\n",
       "          7.62014811e-09, 1.60768050e-15, 1.20096372e-17]))],\n",
       " [(array([0.00000000e+00, 0.00000000e+00, 2.39348971e-04, ...,\n",
       "          9.98803255e-01, 9.98803255e-01, 1.00000000e+00]),\n",
       "   array([0.00000000e+00, 8.65800866e-04, 8.65800866e-04, ...,\n",
       "          9.98268398e-01, 1.00000000e+00, 1.00000000e+00]),\n",
       "   array([1.53398796e+00, 5.33987964e-01, 4.93300639e-01, ...,\n",
       "          6.50907586e-05, 5.60192355e-05, 4.01392648e-33])),\n",
       "  (array([0.00000000e+00, 2.39348971e-04, 7.18046912e-04, ...,\n",
       "          9.94973672e-01, 1.00000000e+00, 1.00000000e+00]),\n",
       "   array([0.       , 0.       , 0.       , ..., 0.9991342, 0.9991342,\n",
       "          1.       ]),\n",
       "   array([2.00000000e+00, 1.00000000e+00, 9.99239205e-01, ...,\n",
       "          7.62014811e-09, 1.60768050e-15, 1.20096372e-17]))],\n",
       " [(array([0.00000000e+00, 0.00000000e+00, 2.39348971e-04, ...,\n",
       "          9.98803255e-01, 9.98803255e-01, 1.00000000e+00]),\n",
       "   array([0.00000000e+00, 8.65800866e-04, 8.65800866e-04, ...,\n",
       "          9.98268398e-01, 1.00000000e+00, 1.00000000e+00]),\n",
       "   array([1.53398796e+00, 5.33987964e-01, 4.93300639e-01, ...,\n",
       "          6.50907586e-05, 5.60192355e-05, 4.01392648e-33])),\n",
       "  (array([0.00000000e+00, 2.39348971e-04, 7.18046912e-04, ...,\n",
       "          9.94973672e-01, 1.00000000e+00, 1.00000000e+00]),\n",
       "   array([0.       , 0.       , 0.       , ..., 0.9991342, 0.9991342,\n",
       "          1.       ]),\n",
       "   array([2.00000000e+00, 1.00000000e+00, 9.99239205e-01, ...,\n",
       "          7.62014811e-09, 1.60768050e-15, 1.20096372e-17]))],\n",
       " [(array([0.00000000e+00, 0.00000000e+00, 2.39348971e-04, ...,\n",
       "          9.98803255e-01, 9.98803255e-01, 1.00000000e+00]),\n",
       "   array([0.00000000e+00, 8.65800866e-04, 8.65800866e-04, ...,\n",
       "          9.98268398e-01, 1.00000000e+00, 1.00000000e+00]),\n",
       "   array([1.53398796e+00, 5.33987964e-01, 4.93300639e-01, ...,\n",
       "          6.50907586e-05, 5.60192355e-05, 4.01392648e-33])),\n",
       "  (array([0.00000000e+00, 2.39348971e-04, 7.18046912e-04, ...,\n",
       "          9.94973672e-01, 1.00000000e+00, 1.00000000e+00]),\n",
       "   array([0.       , 0.       , 0.       , ..., 0.9991342, 0.9991342,\n",
       "          1.       ]),\n",
       "   array([2.00000000e+00, 1.00000000e+00, 9.99239205e-01, ...,\n",
       "          7.62014811e-09, 1.60768050e-15, 1.20096372e-17]))],\n",
       " [(array([0.00000000e+00, 0.00000000e+00, 2.39348971e-04, ...,\n",
       "          9.98803255e-01, 9.98803255e-01, 1.00000000e+00]),\n",
       "   array([0.00000000e+00, 8.65800866e-04, 8.65800866e-04, ...,\n",
       "          9.98268398e-01, 1.00000000e+00, 1.00000000e+00]),\n",
       "   array([1.53398796e+00, 5.33987964e-01, 4.93300639e-01, ...,\n",
       "          6.50907586e-05, 5.60192355e-05, 4.01392648e-33])),\n",
       "  (array([0.00000000e+00, 2.39348971e-04, 7.18046912e-04, ...,\n",
       "          9.94973672e-01, 1.00000000e+00, 1.00000000e+00]),\n",
       "   array([0.       , 0.       , 0.       , ..., 0.9991342, 0.9991342,\n",
       "          1.       ]),\n",
       "   array([2.00000000e+00, 1.00000000e+00, 9.99239205e-01, ...,\n",
       "          7.62014811e-09, 1.60768050e-15, 1.20096372e-17]))],\n",
       " [(array([0.00000000e+00, 0.00000000e+00, 2.39348971e-04, ...,\n",
       "          9.98803255e-01, 9.98803255e-01, 1.00000000e+00]),\n",
       "   array([0.00000000e+00, 8.65800866e-04, 8.65800866e-04, ...,\n",
       "          9.98268398e-01, 1.00000000e+00, 1.00000000e+00]),\n",
       "   array([1.53398796e+00, 5.33987964e-01, 4.93300639e-01, ...,\n",
       "          6.50907586e-05, 5.60192355e-05, 4.01392648e-33])),\n",
       "  (array([0.00000000e+00, 2.39348971e-04, 7.18046912e-04, ...,\n",
       "          9.94973672e-01, 1.00000000e+00, 1.00000000e+00]),\n",
       "   array([0.       , 0.       , 0.       , ..., 0.9991342, 0.9991342,\n",
       "          1.       ]),\n",
       "   array([2.00000000e+00, 1.00000000e+00, 9.99239205e-01, ...,\n",
       "          7.62014811e-09, 1.60768050e-15, 1.20096372e-17]))],\n",
       " [(array([0.00000000e+00, 0.00000000e+00, 2.39348971e-04, ...,\n",
       "          9.98803255e-01, 9.98803255e-01, 1.00000000e+00]),\n",
       "   array([0.00000000e+00, 8.65800866e-04, 8.65800866e-04, ...,\n",
       "          9.98268398e-01, 1.00000000e+00, 1.00000000e+00]),\n",
       "   array([1.53398796e+00, 5.33987964e-01, 4.93300639e-01, ...,\n",
       "          6.50907586e-05, 5.60192355e-05, 4.01392648e-33])),\n",
       "  (array([0.00000000e+00, 2.39348971e-04, 7.18046912e-04, ...,\n",
       "          9.94973672e-01, 1.00000000e+00, 1.00000000e+00]),\n",
       "   array([0.       , 0.       , 0.       , ..., 0.9991342, 0.9991342,\n",
       "          1.       ]),\n",
       "   array([2.00000000e+00, 1.00000000e+00, 9.99239205e-01, ...,\n",
       "          7.62014811e-09, 1.60768050e-15, 1.20096372e-17]))],\n",
       " [(array([0.00000000e+00, 0.00000000e+00, 2.39348971e-04, ...,\n",
       "          9.98803255e-01, 9.98803255e-01, 1.00000000e+00]),\n",
       "   array([0.00000000e+00, 8.65800866e-04, 8.65800866e-04, ...,\n",
       "          9.98268398e-01, 1.00000000e+00, 1.00000000e+00]),\n",
       "   array([1.53398796e+00, 5.33987964e-01, 4.93300639e-01, ...,\n",
       "          6.50907586e-05, 5.60192355e-05, 4.01392648e-33])),\n",
       "  (array([0.00000000e+00, 2.39348971e-04, 7.18046912e-04, ...,\n",
       "          9.94973672e-01, 1.00000000e+00, 1.00000000e+00]),\n",
       "   array([0.       , 0.       , 0.       , ..., 0.9991342, 0.9991342,\n",
       "          1.       ]),\n",
       "   array([2.00000000e+00, 1.00000000e+00, 9.99239205e-01, ...,\n",
       "          7.62014811e-09, 1.60768050e-15, 1.20096372e-17]))],\n",
       " [(array([0.00000000e+00, 0.00000000e+00, 2.39348971e-04, ...,\n",
       "          9.98803255e-01, 9.98803255e-01, 1.00000000e+00]),\n",
       "   array([0.00000000e+00, 8.65800866e-04, 8.65800866e-04, ...,\n",
       "          9.98268398e-01, 1.00000000e+00, 1.00000000e+00]),\n",
       "   array([1.53398796e+00, 5.33987964e-01, 4.93300639e-01, ...,\n",
       "          6.50907586e-05, 5.60192355e-05, 4.01392648e-33])),\n",
       "  (array([0.00000000e+00, 2.39348971e-04, 7.18046912e-04, ...,\n",
       "          9.94973672e-01, 1.00000000e+00, 1.00000000e+00]),\n",
       "   array([0.       , 0.       , 0.       , ..., 0.9991342, 0.9991342,\n",
       "          1.       ]),\n",
       "   array([2.00000000e+00, 1.00000000e+00, 9.99239205e-01, ...,\n",
       "          7.62014811e-09, 1.60768050e-15, 1.20096372e-17]))],\n",
       " [(array([0.00000000e+00, 0.00000000e+00, 2.39348971e-04, ...,\n",
       "          9.98803255e-01, 9.98803255e-01, 1.00000000e+00]),\n",
       "   array([0.00000000e+00, 8.65800866e-04, 8.65800866e-04, ...,\n",
       "          9.98268398e-01, 1.00000000e+00, 1.00000000e+00]),\n",
       "   array([1.53398796e+00, 5.33987964e-01, 4.93300639e-01, ...,\n",
       "          6.50907586e-05, 5.60192355e-05, 4.01392648e-33])),\n",
       "  (array([0.00000000e+00, 2.39348971e-04, 7.18046912e-04, ...,\n",
       "          9.94973672e-01, 1.00000000e+00, 1.00000000e+00]),\n",
       "   array([0.       , 0.       , 0.       , ..., 0.9991342, 0.9991342,\n",
       "          1.       ]),\n",
       "   array([2.00000000e+00, 1.00000000e+00, 9.99239205e-01, ...,\n",
       "          7.62014811e-09, 1.60768050e-15, 1.20096372e-17]))]]"
      ]
     },
     "execution_count": 248,
     "metadata": {},
     "output_type": "execute_result"
    }
   ],
   "source": [
    "# Plot the average training and testing ROC AUC across folds, for each C value.\n",
    "#Testing ROC curves for each fold\n",
    "this_fold_roc_new = roc_curve(y_test_, y_test_predict_proba_1[:,1])\n",
    "cv_test_roc[c_val_counter].append(this_fold_roc_new)\n",
    "cv_test_roc"
   ]
  },
  {
   "cell_type": "code",
   "execution_count": 249,
   "metadata": {},
   "outputs": [
    {
     "data": {
      "text/plain": [
       "Text(0.5, 1.0, 'Cross validation scores averaged over all folds')"
      ]
     },
     "execution_count": 249,
     "metadata": {},
     "output_type": "execute_result"
    },
    {
     "data": {
      "image/png": "[encoded data removed]",
      "text/plain": [
       "<Figure size 432x288 with 1 Axes>"
      ]
     },
     "metadata": {
      "needs_background": "light"
     },
     "output_type": "display_data"
    }
   ],
   "source": [
    "plt.plot(C_val_exponents, np.mean(cv_train_roc_auc, axis=0), '-o',\n",
    "        label='Average training score')\n",
    "plt.plot(C_val_exponents, np.mean(cv_test_roc_auc, axis=0), '-x',\n",
    "        label='Average testing score')\n",
    "plt.ylabel('ROC AUC')\n",
    "plt.xlabel('log$_{10}$(C)')\n",
    "plt.legend()\n",
    "plt.title('Cross validation scores averaged over all folds')"
   ]
  },
  {
   "cell_type": "markdown",
   "metadata": {},
   "source": [
    "Its almost same dont think that there is more effect of regularisation."
   ]
  }
 ],
 "metadata": {
  "kernelspec": {
   "display_name": "Python 3",
   "language": "python",
   "name": "python3"
  },
  "language_info": {
   "codemirror_mode": {
    "name": "ipython",
    "version": 3
   },
   "file_extension": ".py",
   "mimetype": "text/x-python",
   "name": "python",
   "nbconvert_exporter": "python",
   "pygments_lexer": "ipython3",
   "version": "3.7.3"
  }
 },
 "nbformat": 4,
 "nbformat_minor": 2
}
